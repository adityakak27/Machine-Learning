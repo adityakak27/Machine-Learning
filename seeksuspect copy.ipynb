{
  "cells": [
    {
      "cell_type": "code",
      "source": [
        "# prompt: import a folder called fire from my drive to this colab workspace\n",
        "\n",
        "from google.colab import drive\n",
        "drive.mount(\"/content/drive\")\n",
        "!cp -a \"/content/drive/My Drive/fire\" .\n"
      ],
      "metadata": {
        "colab": {
          "base_uri": "https://localhost:8080/"
        },
        "id": "4MAsr9oNQ5T5",
        "outputId": "d856dc05-70da-415e-a69a-f4a2b646e905"
      },
      "execution_count": 1,
      "outputs": [
        {
          "output_type": "stream",
          "name": "stdout",
          "text": [
            "Mounted at /content/drive\n"
          ]
        }
      ]
    },
    {
      "cell_type": "code",
      "source": [
        "%cd fire"
      ],
      "metadata": {
        "colab": {
          "base_uri": "https://localhost:8080/"
        },
        "id": "xkPlJT7Stp0H",
        "outputId": "0e2cb99a-c27d-4899-e76c-75745d18b8bb"
      },
      "execution_count": 2,
      "outputs": [
        {
          "output_type": "stream",
          "name": "stdout",
          "text": [
            "/content/fire\n"
          ]
        }
      ]
    },
    {
      "cell_type": "code",
      "source": [
        "!rm -rf how\n",
        "!git clone https://github.com/gtolias/how\n",
        "import os\n",
        "os.environ['PYTHONPATH'] = os.environ.get('PYTHONPATH', '') + ':' + os.path.realpath('how')"
      ],
      "metadata": {
        "colab": {
          "base_uri": "https://localhost:8080/"
        },
        "id": "4LBRxHaKtsBv",
        "outputId": "fa916f1a-46f3-40f8-9014-58aaf465e560"
      },
      "execution_count": 3,
      "outputs": [
        {
          "output_type": "stream",
          "name": "stdout",
          "text": [
            "Cloning into 'how'...\n",
            "remote: Enumerating objects: 157, done.\u001b[K\n",
            "remote: Counting objects: 100% (157/157), done.\u001b[K\n",
            "remote: Compressing objects: 100% (92/92), done.\u001b[K\n",
            "remote: Total 157 (delta 71), reused 134 (delta 55), pack-reused 0\u001b[K\n",
            "Receiving objects: 100% (157/157), 46.81 KiB | 939.00 KiB/s, done.\n",
            "Resolving deltas: 100% (71/71), done.\n"
          ]
        }
      ]
    },
    {
      "cell_type": "code",
      "source": [
        "!rm -rf cirtorch\n",
        "!wget \"https://github.com/filipradenovic/cnnimageretrieval-pytorch/archive/v1.2.zip\"\n",
        "!unzip v1.2.zip\n",
        "!rm v1.2.zip\n",
        "import os\n",
        "os.environ['PYTHONPATH'] = os.environ.get('PYTHONPATH', '') + ':' + os.path.realpath('cnnimageretrieval-pytorch-1.2')"
      ],
      "metadata": {
        "colab": {
          "base_uri": "https://localhost:8080/"
        },
        "id": "NRoxziBWtxvb",
        "outputId": "fd65e700-5bb2-4ec0-c288-0f37aaaef9ea"
      },
      "execution_count": 4,
      "outputs": [
        {
          "output_type": "stream",
          "name": "stdout",
          "text": [
            "--2024-06-13 07:30:06--  https://github.com/filipradenovic/cnnimageretrieval-pytorch/archive/v1.2.zip\n",
            "Resolving github.com (github.com)... 140.82.112.3\n",
            "Connecting to github.com (github.com)|140.82.112.3|:443... connected.\n",
            "HTTP request sent, awaiting response... 302 Found\n",
            "Location: https://codeload.github.com/filipradenovic/cnnimageretrieval-pytorch/zip/refs/tags/v1.2 [following]\n",
            "--2024-06-13 07:30:06--  https://codeload.github.com/filipradenovic/cnnimageretrieval-pytorch/zip/refs/tags/v1.2\n",
            "Resolving codeload.github.com (codeload.github.com)... 140.82.113.10\n",
            "Connecting to codeload.github.com (codeload.github.com)|140.82.113.10|:443... connected.\n",
            "HTTP request sent, awaiting response... 200 OK\n",
            "Length: unspecified [application/zip]\n",
            "Saving to: ‘v1.2.zip’\n",
            "\n",
            "v1.2.zip                [ <=>                ]  41.06K  --.-KB/s    in 0.09s   \n",
            "\n",
            "2024-06-13 07:30:06 (473 KB/s) - ‘v1.2.zip’ saved [42048]\n",
            "\n",
            "Archive:  v1.2.zip\n",
            "7da5c2a8c7e6d27ac652d1de137d17df31cb510a\n",
            "   creating: cnnimageretrieval-pytorch-1.2/\n",
            "  inflating: cnnimageretrieval-pytorch-1.2/LICENSE  \n",
            "  inflating: cnnimageretrieval-pytorch-1.2/README.md  \n",
            "   creating: cnnimageretrieval-pytorch-1.2/cirtorch/\n",
            "  inflating: cnnimageretrieval-pytorch-1.2/cirtorch/__init__.py  \n",
            "   creating: cnnimageretrieval-pytorch-1.2/cirtorch/datasets/\n",
            " extracting: cnnimageretrieval-pytorch-1.2/cirtorch/datasets/__init__.py  \n",
            "  inflating: cnnimageretrieval-pytorch-1.2/cirtorch/datasets/datahelpers.py  \n",
            "  inflating: cnnimageretrieval-pytorch-1.2/cirtorch/datasets/genericdataset.py  \n",
            "  inflating: cnnimageretrieval-pytorch-1.2/cirtorch/datasets/testdataset.py  \n",
            "  inflating: cnnimageretrieval-pytorch-1.2/cirtorch/datasets/traindataset.py  \n",
            "   creating: cnnimageretrieval-pytorch-1.2/cirtorch/examples/\n",
            " extracting: cnnimageretrieval-pytorch-1.2/cirtorch/examples/__init__.py  \n",
            "  inflating: cnnimageretrieval-pytorch-1.2/cirtorch/examples/example_descriptor_extraction.py  \n",
            "  inflating: cnnimageretrieval-pytorch-1.2/cirtorch/examples/test.py  \n",
            "  inflating: cnnimageretrieval-pytorch-1.2/cirtorch/examples/test_e2e.py  \n",
            "  inflating: cnnimageretrieval-pytorch-1.2/cirtorch/examples/train.py  \n",
            "   creating: cnnimageretrieval-pytorch-1.2/cirtorch/layers/\n",
            " extracting: cnnimageretrieval-pytorch-1.2/cirtorch/layers/__init__.py  \n",
            "  inflating: cnnimageretrieval-pytorch-1.2/cirtorch/layers/functional.py  \n",
            "  inflating: cnnimageretrieval-pytorch-1.2/cirtorch/layers/loss.py  \n",
            "  inflating: cnnimageretrieval-pytorch-1.2/cirtorch/layers/normalization.py  \n",
            "  inflating: cnnimageretrieval-pytorch-1.2/cirtorch/layers/pooling.py  \n",
            "   creating: cnnimageretrieval-pytorch-1.2/cirtorch/networks/\n",
            " extracting: cnnimageretrieval-pytorch-1.2/cirtorch/networks/__init__.py  \n",
            "  inflating: cnnimageretrieval-pytorch-1.2/cirtorch/networks/imageretrievalnet.py  \n",
            "   creating: cnnimageretrieval-pytorch-1.2/cirtorch/utils/\n",
            " extracting: cnnimageretrieval-pytorch-1.2/cirtorch/utils/__init__.py  \n",
            "  inflating: cnnimageretrieval-pytorch-1.2/cirtorch/utils/download.py  \n",
            "  inflating: cnnimageretrieval-pytorch-1.2/cirtorch/utils/download_win.py  \n",
            "  inflating: cnnimageretrieval-pytorch-1.2/cirtorch/utils/evaluate.py  \n",
            "  inflating: cnnimageretrieval-pytorch-1.2/cirtorch/utils/general.py  \n",
            "  inflating: cnnimageretrieval-pytorch-1.2/cirtorch/utils/whiten.py  \n"
          ]
        }
      ]
    },
    {
      "cell_type": "code",
      "source": [
        "!rm -rf asmk\n",
        "!git clone https://github.com/jenicek/asmk.git\n",
        "!pip3 install pyaml numpy faiss-gpu\n",
        "%cd asmk\n",
        "!python3 setup.py build_ext --inplace\n",
        "!rm -r build\n",
        "%cd ..\n",
        "import os\n",
        "os.environ['PYTHONPATH'] = os.environ.get('PYTHONPATH', '') + ':' + os.path.realpath('asmk')"
      ],
      "metadata": {
        "colab": {
          "base_uri": "https://localhost:8080/"
        },
        "id": "9RmRYB8Rt2UX",
        "outputId": "27daec05-ab7b-4a06-ced9-b4a0ba20e9cb"
      },
      "execution_count": 5,
      "outputs": [
        {
          "output_type": "stream",
          "name": "stdout",
          "text": [
            "Cloning into 'asmk'...\n",
            "remote: Enumerating objects: 138, done.\u001b[K\n",
            "remote: Counting objects: 100% (138/138), done.\u001b[K\n",
            "remote: Compressing objects: 100% (75/75), done.\u001b[K\n",
            "remote: Total 138 (delta 78), reused 117 (delta 59), pack-reused 0\u001b[K\n",
            "Receiving objects: 100% (138/138), 152.04 KiB | 1.13 MiB/s, done.\n",
            "Resolving deltas: 100% (78/78), done.\n",
            "Collecting pyaml\n",
            "  Downloading pyaml-24.4.0-py3-none-any.whl (24 kB)\n",
            "Requirement already satisfied: numpy in /usr/local/lib/python3.10/dist-packages (1.25.2)\n",
            "Collecting faiss-gpu\n",
            "  Downloading faiss_gpu-1.7.2-cp310-cp310-manylinux_2_17_x86_64.manylinux2014_x86_64.whl (85.5 MB)\n",
            "\u001b[2K     \u001b[90m━━━━━━━━━━━━━━━━━━━━━━━━━━━━━━━━━━━━━━━━\u001b[0m \u001b[32m85.5/85.5 MB\u001b[0m \u001b[31m6.7 MB/s\u001b[0m eta \u001b[36m0:00:00\u001b[0m\n",
            "\u001b[?25hRequirement already satisfied: PyYAML in /usr/local/lib/python3.10/dist-packages (from pyaml) (6.0.1)\n",
            "Installing collected packages: faiss-gpu, pyaml\n",
            "Successfully installed faiss-gpu-1.7.2 pyaml-24.4.0\n",
            "/content/fire/asmk\n",
            "running build_ext\n",
            "building 'asmk.hamming' extension\n",
            "creating build\n",
            "creating build/temp.linux-x86_64-cpython-310\n",
            "creating build/temp.linux-x86_64-cpython-310/cython\n",
            "x86_64-linux-gnu-gcc -Wno-unused-result -Wsign-compare -DNDEBUG -g -fwrapv -O2 -Wall -g -fstack-protector-strong -Wformat -Werror=format-security -g -fwrapv -O2 -fPIC -I/usr/include/python3.10 -c cython/hamming.c -o build/temp.linux-x86_64-cpython-310/cython/hamming.o\n",
            "creating build/lib.linux-x86_64-cpython-310\n",
            "creating build/lib.linux-x86_64-cpython-310/asmk\n",
            "x86_64-linux-gnu-gcc -shared -Wl,-O1 -Wl,-Bsymbolic-functions -Wl,-Bsymbolic-functions -g -fwrapv -O2 build/temp.linux-x86_64-cpython-310/cython/hamming.o -L/usr/lib/x86_64-linux-gnu -o build/lib.linux-x86_64-cpython-310/asmk/hamming.cpython-310-x86_64-linux-gnu.so\n",
            "copying build/lib.linux-x86_64-cpython-310/asmk/hamming.cpython-310-x86_64-linux-gnu.so -> asmk\n",
            "/content/fire\n"
          ]
        }
      ]
    },
    {
      "cell_type": "code",
      "source": [
        "!pip3 install -r how/requirements.txt"
      ],
      "metadata": {
        "colab": {
          "base_uri": "https://localhost:8080/"
        },
        "id": "Tg_mw4Kyt6vP",
        "outputId": "3bec3544-9e7e-4066-9756-09a1b6fd03cf"
      },
      "execution_count": 6,
      "outputs": [
        {
          "output_type": "stream",
          "name": "stdout",
          "text": [
            "Requirement already satisfied: numpy in /usr/local/lib/python3.10/dist-packages (from -r how/requirements.txt (line 1)) (1.25.2)\n",
            "Requirement already satisfied: pyaml in /usr/local/lib/python3.10/dist-packages (from -r how/requirements.txt (line 2)) (24.4.0)\n",
            "Requirement already satisfied: matplotlib in /usr/local/lib/python3.10/dist-packages (from -r how/requirements.txt (line 3)) (3.7.1)\n",
            "\u001b[31mERROR: Could not find a version that satisfies the requirement torch==1.3.1 (from versions: 1.11.0, 1.12.0, 1.12.1, 1.13.0, 1.13.1, 2.0.0, 2.0.1, 2.1.0, 2.1.1, 2.1.2, 2.2.0, 2.2.1, 2.2.2, 2.3.0, 2.3.1)\u001b[0m\u001b[31m\n",
            "\u001b[0m\u001b[31mERROR: No matching distribution found for torch==1.3.1\u001b[0m\u001b[31m\n",
            "\u001b[0m"
          ]
        }
      ]
    },
    {
      "cell_type": "code",
      "source": [
        "!pip3 install torch==2.3.0"
      ],
      "metadata": {
        "colab": {
          "base_uri": "https://localhost:8080/"
        },
        "id": "bzF6zLgmuEAn",
        "outputId": "2cad84a2-4049-4978-b819-0bbc728b798a"
      },
      "execution_count": 7,
      "outputs": [
        {
          "output_type": "stream",
          "name": "stdout",
          "text": [
            "Requirement already satisfied: torch==2.3.0 in /usr/local/lib/python3.10/dist-packages (2.3.0+cu121)\n",
            "Requirement already satisfied: filelock in /usr/local/lib/python3.10/dist-packages (from torch==2.3.0) (3.14.0)\n",
            "Requirement already satisfied: typing-extensions>=4.8.0 in /usr/local/lib/python3.10/dist-packages (from torch==2.3.0) (4.12.2)\n",
            "Requirement already satisfied: sympy in /usr/local/lib/python3.10/dist-packages (from torch==2.3.0) (1.12.1)\n",
            "Requirement already satisfied: networkx in /usr/local/lib/python3.10/dist-packages (from torch==2.3.0) (3.3)\n",
            "Requirement already satisfied: jinja2 in /usr/local/lib/python3.10/dist-packages (from torch==2.3.0) (3.1.4)\n",
            "Requirement already satisfied: fsspec in /usr/local/lib/python3.10/dist-packages (from torch==2.3.0) (2023.6.0)\n",
            "Collecting nvidia-cuda-nvrtc-cu12==12.1.105 (from torch==2.3.0)\n",
            "  Using cached nvidia_cuda_nvrtc_cu12-12.1.105-py3-none-manylinux1_x86_64.whl (23.7 MB)\n",
            "Collecting nvidia-cuda-runtime-cu12==12.1.105 (from torch==2.3.0)\n",
            "  Using cached nvidia_cuda_runtime_cu12-12.1.105-py3-none-manylinux1_x86_64.whl (823 kB)\n",
            "Collecting nvidia-cuda-cupti-cu12==12.1.105 (from torch==2.3.0)\n",
            "  Using cached nvidia_cuda_cupti_cu12-12.1.105-py3-none-manylinux1_x86_64.whl (14.1 MB)\n",
            "Collecting nvidia-cudnn-cu12==8.9.2.26 (from torch==2.3.0)\n",
            "  Using cached nvidia_cudnn_cu12-8.9.2.26-py3-none-manylinux1_x86_64.whl (731.7 MB)\n",
            "Collecting nvidia-cublas-cu12==12.1.3.1 (from torch==2.3.0)\n",
            "  Using cached nvidia_cublas_cu12-12.1.3.1-py3-none-manylinux1_x86_64.whl (410.6 MB)\n",
            "Collecting nvidia-cufft-cu12==11.0.2.54 (from torch==2.3.0)\n",
            "  Using cached nvidia_cufft_cu12-11.0.2.54-py3-none-manylinux1_x86_64.whl (121.6 MB)\n",
            "Collecting nvidia-curand-cu12==10.3.2.106 (from torch==2.3.0)\n",
            "  Using cached nvidia_curand_cu12-10.3.2.106-py3-none-manylinux1_x86_64.whl (56.5 MB)\n",
            "Collecting nvidia-cusolver-cu12==11.4.5.107 (from torch==2.3.0)\n",
            "  Using cached nvidia_cusolver_cu12-11.4.5.107-py3-none-manylinux1_x86_64.whl (124.2 MB)\n",
            "Collecting nvidia-cusparse-cu12==12.1.0.106 (from torch==2.3.0)\n",
            "  Using cached nvidia_cusparse_cu12-12.1.0.106-py3-none-manylinux1_x86_64.whl (196.0 MB)\n",
            "Collecting nvidia-nccl-cu12==2.20.5 (from torch==2.3.0)\n",
            "  Using cached nvidia_nccl_cu12-2.20.5-py3-none-manylinux2014_x86_64.whl (176.2 MB)\n",
            "Collecting nvidia-nvtx-cu12==12.1.105 (from torch==2.3.0)\n",
            "  Using cached nvidia_nvtx_cu12-12.1.105-py3-none-manylinux1_x86_64.whl (99 kB)\n",
            "Requirement already satisfied: triton==2.3.0 in /usr/local/lib/python3.10/dist-packages (from torch==2.3.0) (2.3.0)\n",
            "Collecting nvidia-nvjitlink-cu12 (from nvidia-cusolver-cu12==11.4.5.107->torch==2.3.0)\n",
            "  Downloading nvidia_nvjitlink_cu12-12.5.40-py3-none-manylinux2014_x86_64.whl (21.3 MB)\n",
            "\u001b[2K     \u001b[90m━━━━━━━━━━━━━━━━━━━━━━━━━━━━━━━━━━━━━━━━\u001b[0m \u001b[32m21.3/21.3 MB\u001b[0m \u001b[31m63.3 MB/s\u001b[0m eta \u001b[36m0:00:00\u001b[0m\n",
            "\u001b[?25hRequirement already satisfied: MarkupSafe>=2.0 in /usr/local/lib/python3.10/dist-packages (from jinja2->torch==2.3.0) (2.1.5)\n",
            "Requirement already satisfied: mpmath<1.4.0,>=1.1.0 in /usr/local/lib/python3.10/dist-packages (from sympy->torch==2.3.0) (1.3.0)\n",
            "Installing collected packages: nvidia-nvtx-cu12, nvidia-nvjitlink-cu12, nvidia-nccl-cu12, nvidia-curand-cu12, nvidia-cufft-cu12, nvidia-cuda-runtime-cu12, nvidia-cuda-nvrtc-cu12, nvidia-cuda-cupti-cu12, nvidia-cublas-cu12, nvidia-cusparse-cu12, nvidia-cudnn-cu12, nvidia-cusolver-cu12\n",
            "Successfully installed nvidia-cublas-cu12-12.1.3.1 nvidia-cuda-cupti-cu12-12.1.105 nvidia-cuda-nvrtc-cu12-12.1.105 nvidia-cuda-runtime-cu12-12.1.105 nvidia-cudnn-cu12-8.9.2.26 nvidia-cufft-cu12-11.0.2.54 nvidia-curand-cu12-10.3.2.106 nvidia-cusolver-cu12-11.4.5.107 nvidia-cusparse-cu12-12.1.0.106 nvidia-nccl-cu12-2.20.5 nvidia-nvjitlink-cu12-12.5.40 nvidia-nvtx-cu12-12.1.105\n"
          ]
        }
      ]
    },
    {
      "cell_type": "code",
      "source": [
        "!python train.py train_fire.yml -e train_fire"
      ],
      "metadata": {
        "colab": {
          "base_uri": "https://localhost:8080/"
        },
        "id": "Eo5EpJFIvXqz",
        "outputId": "a36899f4-3e9a-465d-ace5-63dbbeb0be5d"
      },
      "execution_count": 38,
      "outputs": [
        {
          "output_type": "stream",
          "name": "stdout",
          "text": [
            "/usr/local/lib/python3.10/dist-packages/torchvision/models/_utils.py:208: UserWarning: The parameter 'pretrained' is deprecated since 0.13 and may be removed in the future, please use 'weights' instead.\n",
            "  warnings.warn(\n",
            "/usr/local/lib/python3.10/dist-packages/torchvision/models/_utils.py:223: UserWarning: Arguments other than a weight enum or `None` for 'weights' are deprecated since 0.13 and may be removed in the future. The current behavior is equivalent to passing `weights=None`.\n",
            "  warnings.warn(msg)\n",
            "HOW INFO: Initializing network whitening\n",
            ">> Initializing dim reduction\n",
            "Traceback (most recent call last):\n",
            "  File \"/usr/local/lib/python3.10/dist-packages/pandas/core/indexes/base.py\", line 3653, in get_loc\n",
            "    return self._engine.get_loc(casted_key)\n",
            "  File \"pandas/_libs/index.pyx\", line 147, in pandas._libs.index.IndexEngine.get_loc\n",
            "  File \"pandas/_libs/index.pyx\", line 176, in pandas._libs.index.IndexEngine.get_loc\n",
            "  File \"pandas/_libs/hashtable_class_helper.pxi\", line 7080, in pandas._libs.hashtable.PyObjectHashTable.get_item\n",
            "  File \"pandas/_libs/hashtable_class_helper.pxi\", line 7088, in pandas._libs.hashtable.PyObjectHashTable.get_item\n",
            "KeyError: 'train'\n",
            "\n",
            "The above exception was the direct cause of the following exception:\n",
            "\n",
            "Traceback (most recent call last):\n",
            "  File \"/content/fire/train.py\", line 215, in <module>\n",
            "    main(sys.argv[1:])\n",
            "  File \"/content/fire/train.py\", line 212, in main\n",
            "    train(**params, globals=globals)\n",
            "  File \"/content/fire/train.py\", line 64, in train\n",
            "    initialize_dim_reduction(net, globals, **training['initialize_dim_reduction'])\n",
            "  File \"/content/fire/how/how/stages/train.py\", line 199, in initialize_dim_reduction\n",
            "    des_train = extract_train_descriptors(net.copy_excluding_dim_reduction(), globals, **kwargs)\n",
            "  File \"/content/fire/how/how/stages/train.py\", line 184, in extract_train_descriptors\n",
            "    images = data_helpers.load_dataset('train', data_root=globals['root_path'])[0][:images]\n",
            "  File \"/content/fire/how/how/utils/data_helpers.py\", line 29, in load_dataset\n",
            "    db = pickle.load(f)['train']\n",
            "  File \"/usr/local/lib/python3.10/dist-packages/pandas/core/frame.py\", line 3761, in __getitem__\n",
            "    indexer = self.columns.get_loc(key)\n",
            "  File \"/usr/local/lib/python3.10/dist-packages/pandas/core/indexes/base.py\", line 3655, in get_loc\n",
            "    raise KeyError(key) from err\n",
            "KeyError: 'train'\n"
          ]
        }
      ]
    }
  ],
  "metadata": {
    "colab": {
      "name": "Welcome To Colab",
      "provenance": []
    },
    "kernelspec": {
      "display_name": "Python 3",
      "name": "python3"
    }
  },
  "nbformat": 4,
  "nbformat_minor": 0
}